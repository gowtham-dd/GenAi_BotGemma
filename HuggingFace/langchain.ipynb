{
 "cells": [
  {
   "cell_type": "code",
   "execution_count": 1,
   "metadata": {},
   "outputs": [
    {
     "name": "stderr",
     "output_type": "stream",
     "text": [
      "d:\\Data Science\\LangChain\\GenAi_BotGemma\\venv\\Lib\\site-packages\\tqdm\\auto.py:21: TqdmWarning: IProgress not found. Please update jupyter and ipywidgets. See https://ipywidgets.readthedocs.io/en/stable/user_install.html\n",
      "  from .autonotebook import tqdm as notebook_tqdm\n"
     ]
    }
   ],
   "source": [
    "from langchain_google_genai import ChatGoogleGenerativeAI\n",
    "from langchain_groq import ChatGroq\n"
   ]
  },
  {
   "cell_type": "code",
   "execution_count": 2,
   "metadata": {},
   "outputs": [],
   "source": [
    "from dotenv import load_dotenv\n",
    "import os\n",
    "# Load .env file\n",
    "load_dotenv()\n",
    "\n",
    "groq_api_key = os.environ['GROQ_API_KEY']\n",
    "llm = ChatGroq(groq_api_key=groq_api_key, model_name=\"gemma2-9b-it\")\n"
   ]
  },
  {
   "cell_type": "code",
   "execution_count": 3,
   "metadata": {},
   "outputs": [
    {
     "name": "stderr",
     "output_type": "stream",
     "text": [
      "C:\\Users\\dell\\AppData\\Local\\Temp\\ipykernel_12360\\719268038.py:2: LangChainDeprecationWarning: The method `BaseChatModel.predict` was deprecated in langchain-core 0.1.7 and will be removed in 1.0. Use :meth:`~invoke` instead.\n",
      "  print(llm.predict(text))\n"
     ]
    },
    {
     "name": "stdout",
     "output_type": "stream",
     "text": [
      "The capital of India is **New Delhi**. \n",
      "\n"
     ]
    }
   ],
   "source": [
    "text=\"What is capital of india \"\n",
    "print(llm.predict(text))"
   ]
  },
  {
   "cell_type": "code",
   "execution_count": 4,
   "metadata": {},
   "outputs": [],
   "source": [
    "huggingface_api_key = os.environ['HUGGINGFACEHUB_API_TOKEN']\n"
   ]
  },
  {
   "cell_type": "code",
   "execution_count": 5,
   "metadata": {},
   "outputs": [
    {
     "name": "stderr",
     "output_type": "stream",
     "text": [
      "C:\\Users\\dell\\AppData\\Local\\Temp\\ipykernel_12360\\2958948804.py:2: LangChainDeprecationWarning: The class `HuggingFaceHub` was deprecated in LangChain 0.0.21 and will be removed in 1.0. An updated version of the class exists in the :class:`~langchain-huggingface package and should be used instead. To use it run `pip install -U :class:`~langchain-huggingface` and import as `from :class:`~langchain_huggingface import HuggingFaceEndpoint``.\n",
      "  hf=HuggingFaceHub(\n"
     ]
    }
   ],
   "source": [
    "from langchain import HuggingFaceHub\n",
    "hf=HuggingFaceHub(\n",
    "    repo_id=\"mistralai/Mistral-7B-v0.1\",   \n",
    "    huggingfacehub_api_token=huggingface_api_key,\n",
    "    model_kwargs={\"temperature\":0.1}\n",
    "\n",
    ")"
   ]
  },
  {
   "cell_type": "code",
   "execution_count": 6,
   "metadata": {},
   "outputs": [
    {
     "name": "stdout",
     "output_type": "stream",
     "text": [
      "content='A heart that leans, a mind that sways,\\nA path well-trodden, through biased haze.\\nPartiality, a silent thief,\\nSteals objectivity, brings no relief.\\n\\nIt paints a world in shades of gray,\\nWhere favors bloom, and truths decay.\\nA whispered word, a glance unseen,\\nA subtle nudge, where fairness leans.\\n\\nIt whispers tales of \"right\" and \"wrong,\"\\nA twisted melody, a warped song.\\nBlind spots widen, reason fades,\\nAs judgment skews, in prejudiced shades.\\n\\nThe scales of justice, tipped and bent,\\nA symphony of favor, heaven-sent.\\nBut in that imbalance, chaos grows,\\nA poisoned seed, where virtue slows.\\n\\nTo break this spell, a conscious fight,\\nTo see with eyes both clear and bright.\\nEmbrace the flaws, the human stain,\\nAnd strive for balance, again and again.\\n\\nFor in the tapestry of life\\'s grand scheme,\\nEquality\\'s threads, a vibrant dream.\\nLet partiality be cast aside,\\nAnd let compassion be our guiding tide. \\n\\n\\n' additional_kwargs={} response_metadata={'token_usage': {'completion_tokens': 236, 'prompt_tokens': 15, 'total_tokens': 251, 'completion_time': 0.429090909, 'prompt_time': 0.001276948, 'queue_time': 0.250763082, 'total_time': 0.430367857}, 'model_name': 'gemma2-9b-it', 'system_fingerprint': 'fp_10c08bf97d', 'service_tier': 'on_demand', 'finish_reason': 'stop', 'logprobs': None} id='run--14ed1f8e-a033-4794-9981-00f299aa7b52-0' usage_metadata={'input_tokens': 15, 'output_tokens': 236, 'total_tokens': 251}\n"
     ]
    }
   ],
   "source": [
    "print(llm.invoke(\"Write a poem on partiality\"))\n"
   ]
  },
  {
   "cell_type": "markdown",
   "metadata": {},
   "source": [
    "## Prompt Template"
   ]
  },
  {
   "cell_type": "code",
   "execution_count": 7,
   "metadata": {},
   "outputs": [
    {
     "data": {
      "text/plain": [
       "'Tell me the capital of India'"
      ]
     },
     "execution_count": 7,
     "metadata": {},
     "output_type": "execute_result"
    }
   ],
   "source": [
    "from langchain.prompts import PromptTemplate\n",
    "\n",
    "prompt_template=PromptTemplate(input_variables=['country'],template=\"Tell me the capital of {country}\")\n",
    "\n",
    "prompt_template.format(country=\"India\")"
   ]
  },
  {
   "cell_type": "code",
   "execution_count": 10,
   "metadata": {},
   "outputs": [
    {
     "name": "stderr",
     "output_type": "stream",
     "text": [
      "C:\\Users\\dell\\AppData\\Local\\Temp\\ipykernel_12360\\311033936.py:3: LangChainDeprecationWarning: The class `LLMChain` was deprecated in LangChain 0.1.17 and will be removed in 1.0. Use :meth:`~RunnableSequence, e.g., `prompt | llm`` instead.\n",
      "  chain=LLMChain(llm=llm,prompt=prompt_template)\n",
      "C:\\Users\\dell\\AppData\\Local\\Temp\\ipykernel_12360\\311033936.py:4: LangChainDeprecationWarning: The method `Chain.run` was deprecated in langchain 0.1.0 and will be removed in 1.0. Use :meth:`~invoke` instead.\n",
      "  chain.run(\"India\")\n"
     ]
    },
    {
     "data": {
      "text/plain": [
       "'The capital of India is **New Delhi**. \\n'"
      ]
     },
     "execution_count": 10,
     "metadata": {},
     "output_type": "execute_result"
    }
   ],
   "source": [
    "from langchain.chains import LLMChain\n",
    "\n",
    "chain=LLMChain(llm=llm,prompt=prompt_template)\n",
    "chain.run(\"India\")"
   ]
  },
  {
   "cell_type": "markdown",
   "metadata": {},
   "source": [
    "## Simple Sequential Chain"
   ]
  },
  {
   "cell_type": "code",
   "execution_count": 14,
   "metadata": {},
   "outputs": [],
   "source": [
    "capital_prompt=PromptTemplate(input_variables=[\"country\"],template=\"Please temm me capital of {county}\")\n",
    "capital_cain=LLMChain(llm=llm,prompt=capital_prompt)\n",
    "\n",
    "\n",
    "famous_template=PromptTemplate(input_variables=[\"capital\"],template=\"Suggest me famous places to visit in {capital}\")\n",
    "famous_chcain=LLMChain(llm=llm ,prompt=famous_template)"
   ]
  },
  {
   "cell_type": "code",
   "execution_count": 15,
   "metadata": {},
   "outputs": [],
   "source": [
    "from langchain.chains import SimpleSequentialChain\n",
    "\n",
    "chain=SimpleSequentialChain(chains=[capital_cain,famous_chcain])"
   ]
  },
  {
   "cell_type": "code",
   "execution_count": 16,
   "metadata": {},
   "outputs": [
    {
     "data": {
      "text/plain": [
       "\"## Famous Places to Visit in New Delhi:\\n\\n**Historical & Architectural Wonders:**\\n\\n* **Red Fort:** A UNESCO World Heritage site, this magnificent fortress was the main residence of the Mughal emperors.\\n* **Jama Masjid:** One of India's largest mosques, with impressive architecture and a serene atmosphere.\\n* **Humayun's Tomb:** An elegant precursor to the Taj Mahal, showcasing stunning Mughal architecture.\\n* **Qutub Minar:** A towering minaret, the tallest brick minaret in the world, with intricate carvings and historical significance.\\n* **India Gate:** A war memorial dedicated to Indian soldiers who died in World War I, a popular landmark for gatherings and ceremonies.\\n* **Chandni Chowk:** A bustling market with narrow lanes, vibrant shops, delicious street food, and historical landmarks like the Sis Ganj Gurudwara and the Digambar Jain Lal Mandir.\\n\\n**Museums & Cultural Experiences:**\\n\\n* **National Museum:** Houses a vast collection of Indian art, history, and archaeology.\\n* **National Gallery of Modern Art:** Showcases a diverse collection of modern and contemporary Indian art.\\n* **Gandhi Smriti:** The former residence of Mahatma Gandhi, now a museum dedicated to his life and philosophy.\\n* **Rashtrapati Bhavan:** The official residence of the President of India, with beautiful gardens and a museum showcasing its history.\\n\\n**Parks & Gardens:**\\n\\n* **Lodhi Garden:** A sprawling park with historical tombs, lush greenery, and serene pathways.\\n* **Garden of Five Senses:** An innovative sensory garden with interactive exhibits and beautiful landscaping.\\n* **Nehru Memorial Museum & Library:** A museum dedicated to the life and work of India's first Prime Minister, Jawaharlal Nehru.\\n\\n**Other Notable Places:**\\n\\n* **Akshardham Temple:** A magnificent Hindu temple complex with intricate carvings and stunning light and water shows.\\n* **Lotus Temple:** A unique temple with a lotus-shaped design, open to all religions.\\n* **Gurudwara Bangla Sahib:** A prominent Sikh temple known for its holy water and community kitchens.\\n\\n\\nThis is just a starting point – New Delhi has countless other hidden gems and experiences waiting to be discovered!\\n\\n\""
      ]
     },
     "execution_count": 16,
     "metadata": {},
     "output_type": "execute_result"
    }
   ],
   "source": [
    "chain.run(\"India\")"
   ]
  },
  {
   "cell_type": "markdown",
   "metadata": {},
   "source": [
    "## Prompt Template LLM Output Parser"
   ]
  },
  {
   "cell_type": "code",
   "execution_count": 17,
   "metadata": {},
   "outputs": [],
   "source": [
    "from langchain_google_genai import ChatGoogleGenerativeAI\n",
    "from langchain.prompts.chat import ChatPromptTemplate\n",
    "from langchain.schema import BaseOutputParser"
   ]
  },
  {
   "cell_type": "code",
   "execution_count": 18,
   "metadata": {},
   "outputs": [],
   "source": [
    "class commaseperatedoutput(BaseOutputParser):\n",
    "    def parse(self,text:str):\n",
    "        return text.strip().split(\",\")"
   ]
  },
  {
   "cell_type": "code",
   "execution_count": 19,
   "metadata": {},
   "outputs": [],
   "source": [
    "template=\"You are a helpfull assistant . When user gives u a input you should generate 5 words in comma seperted \"\n",
    "human_template=\"{text}\"\n",
    "chatprompt=ChatPromptTemplate.from_messages([\n",
    "    (\"system\",template),(\"human\",human_template)\n",
    "])"
   ]
  },
  {
   "cell_type": "code",
   "execution_count": 20,
   "metadata": {},
   "outputs": [],
   "source": [
    "chain= chatprompt|llm|commaseperatedoutput()"
   ]
  },
  {
   "cell_type": "code",
   "execution_count": 21,
   "metadata": {},
   "outputs": [
    {
     "data": {
      "text/plain": [
       "['Okay',\n",
       " \" I'm ready!\\n\\nGive me your input and I'll generate 5 words in comma-separated format.  \\n\\nFor example\",\n",
       " ' if you say \"What is the weather like?\"',\n",
       " ' I might respond:\\n\\nsunshine',\n",
       " ' warm',\n",
       " ' cloudy',\n",
       " ' breezy',\n",
       " \" pleasant \\n\\n\\nLet's try it!\"]"
      ]
     },
     "execution_count": 21,
     "metadata": {},
     "output_type": "execute_result"
    }
   ],
   "source": [
    "chain.invoke({\"text\":\"Gemini\"})"
   ]
  },
  {
   "cell_type": "code",
   "execution_count": null,
   "metadata": {},
   "outputs": [],
   "source": []
  }
 ],
 "metadata": {
  "kernelspec": {
   "display_name": "venv",
   "language": "python",
   "name": "python3"
  },
  "language_info": {
   "codemirror_mode": {
    "name": "ipython",
    "version": 3
   },
   "file_extension": ".py",
   "mimetype": "text/x-python",
   "name": "python",
   "nbconvert_exporter": "python",
   "pygments_lexer": "ipython3",
   "version": "3.12.8"
  }
 },
 "nbformat": 4,
 "nbformat_minor": 2
}

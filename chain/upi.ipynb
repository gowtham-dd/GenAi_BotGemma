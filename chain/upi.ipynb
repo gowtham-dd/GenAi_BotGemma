{
 "cells": [
  {
   "cell_type": "markdown",
   "metadata": {},
   "source": [
    "## UPI Analyzer"
   ]
  },
  {
   "cell_type": "code",
   "execution_count": 1,
   "metadata": {},
   "outputs": [
    {
     "data": {
      "text/plain": [
       "[Document(metadata={'producer': 'iLovePDF', 'creator': 'PyPDF', 'creationdate': '', 'moddate': '2024-05-29T18:20:51+00:00', 'source': '737893745-PhonePe-Transaction-Statement-3.pdf', 'total_pages': 8, 'page': 0, 'page_label': '1'}, page_content='Transaction Statement for +919843968308\\nApr 01, 2023 - Mar 31, 2024\\nDate Transaction Details Type Amount\\nApr 03, 2023\\n12:34 PM\\nReceived from global books\\nTransaction ID : T2304031234001870744941\\nUTR No : 309333675610\\nCredited to XX3466\\nCredit INR \\n28600.00\\nApr 09, 2023\\n08:04 PM\\nPaid to syam.ks\\nTransaction ID : T2304092004042147133838\\nUTR No : 309983907956\\nPaid by XX3466\\nDebit INR 3700.00\\nApr 26, 2023\\n10:23 AM\\nReceived from global books\\nTransaction ID : T2304261023295057948675\\nUTR No : 311641997371\\nCredited to XX3466\\nCredit INR \\n39600.00\\nMay 02, 2023\\n03:54 PM\\nBill paid - Electricity\\nTransaction ID : NX23050215542726535988111\\nUTR No : 312248012348\\nPaid by XX3466\\nDebit INR 630.00\\nJun 09, 2023\\n07:48 PM\\nReceived from ******7472\\nTransaction ID : T2306091948473644226394\\nUTR No : 316097348820\\nCredited to XX3466\\nCredit INR \\n10000.00\\nJun 14, 2023\\n07:14 PM\\nPaid to ******9368\\nTransaction ID : T2306141914265953042811\\nUTR No : 316585575827\\nPaid by XX3466\\nDebit INR 3300.00\\nJul 04, 2023\\n01:52 PM\\nBill paid - Electricity\\nTransaction ID : NX23070413520093089108821\\nUTR No : 318521527380\\nPaid by XX3466\\nDebit INR 1035.00\\nJul 10, 2023\\n04:57 PM\\nReceived from ******8799\\nTransaction ID : T2307101656583812048268\\nUTR No : 319118363077\\nCredited to XX3466\\nCredit INR \\n25000.00\\nPage 1 of 8\\nThis is a system generated statement. For any queries, contact us at .https://support.phonepe.com/statement'),\n",
       " Document(metadata={'producer': 'iLovePDF', 'creator': 'PyPDF', 'creationdate': '', 'moddate': '2024-05-29T18:20:51+00:00', 'source': '737893745-PhonePe-Transaction-Statement-3.pdf', 'total_pages': 8, 'page': 1, 'page_label': '2'}, page_content='Date Transaction Details Type Amount\\nJul 11, 2023\\n07:23 PM\\nReceived from ******8799\\nTransaction ID : T2307111923236087140395\\nUTR No : 319254761337\\nCredited to XX3466\\nCredit INR \\n15000.00\\nJul 13, 2023\\n07:39 PM\\nReceived from ******5777\\nTransaction ID : T2307131938595539559290\\nUTR No : 319497848795\\nCredited to XX3466\\nCredit INR 1.00\\nJul 13, 2023\\n07:40 PM\\nReceived from ******5777\\nTransaction ID : T2307131940460605011223\\nUTR No : 319434760936\\nCredited to XX3466\\nCredit INR \\n18000.00\\nJul 14, 2023\\n03:39 PM\\nPaid to ******5777\\nTransaction ID : T2307141539267941141493\\nUTR No : 319525085944\\nPaid by XX3466\\nDebit INR \\n18000.00\\nJul 18, 2023\\n09:02 PM\\nReceived from ******8799\\nTransaction ID : T2307182102409476413797\\nUTR No : 319953868222\\nCredited to XX3466\\nCredit INR 2500.00\\nJul 19, 2023\\n07:54 PM\\nReceived from ******8799\\nTransaction ID : T2307191954047162285026\\nUTR No : 320097197112\\nCredited to XX3466\\nCredit INR \\n11000.00\\nJul 19, 2023\\n08:40 PM\\nReceived from ******8799\\nTransaction ID : T2307192040227424186390\\nUTR No : 320014581079\\nCredited to XX3466\\nCredit INR 2000.00\\nAug 11, 2023\\n01:53 PM\\nPaid to global books\\nTransaction ID : T2308111353205404636033\\nUTR No : 322348959315\\nPaid by XX3466\\nDebit INR \\n10000.00\\nAug 28, 2023\\n08:12 PM\\nReceived from ******9205\\nTransaction ID : T2308282012032607542308\\nUTR No : 324073065380\\nCredited to XX3466\\nCredit INR \\n20000.00\\nPage 2 of 8\\nThis is a system generated statement. For any queries, contact us at .https://support.phonepe.com/statement'),\n",
       " Document(metadata={'producer': 'iLovePDF', 'creator': 'PyPDF', 'creationdate': '', 'moddate': '2024-05-29T18:20:51+00:00', 'source': '737893745-PhonePe-Transaction-Statement-3.pdf', 'total_pages': 8, 'page': 2, 'page_label': '3'}, page_content='Date Transaction Details Type Amount\\nAug 30, 2023\\n01:37 PM\\nReceived from 9787836386\\nTransaction ID : T2308301337196256684455\\nUTR No : 324219063434\\nCredited to XX3466\\nCredit INR 1.00\\nAug 30, 2023\\n01:40 PM\\nReceived from 9787836386\\nTransaction ID : T2308301340294904170008\\nUTR No : 324212945612\\nCredited to XX3466\\nCredit INR \\n17000.00\\nAug 30, 2023\\n09:34 PM\\nBill paid - Electricity\\nTransaction ID : NB23083021340900939122622\\nUTR No : 324274087176\\nPaid by XX3466\\nDebit INR 558.00\\nSep 05, 2023\\n11:53 AM\\nReceived from ******7472\\nTransaction ID : T2309051153222654384502\\nUTR No : 324879776188\\nCredited to XX3466\\nCredit INR 3000.00\\nSep 15, 2023\\n04:06 PM\\nReceived from 9787836386\\nTransaction ID : T2309151606228910143941\\nUTR No : 325813162137\\nCredited to XX3466\\nCredit INR \\n10050.00\\nSep 15, 2023\\n04:24 PM\\nReceived from 9787836386\\nTransaction ID : T2309151624309415179275\\nUTR No : 325801807817\\nCredited to XX3466\\nCredit INR 300.00\\nSep 15, 2023\\n08:38 PM\\nPaid to ******5339\\nTransaction ID : T2309152038185802223235\\nUTR No : 325813290215\\nPaid by XX3466\\nDebit INR \\n10000.00\\nSep 23, 2023\\n10:28 PM\\nReceived from Sri\\nTransaction ID : T2309232228141042706928\\nUTR No : 326616381290\\nCredited to XX3466\\nCredit INR \\n13000.00\\nOct 01, 2023\\n07:46 PM\\nPaid to ******8625\\nTransaction ID : T2310011946041757216927\\nUTR No : 327459007927\\nPaid by XX3466\\nDebit INR 1300.00\\nPage 3 of 8\\nThis is a system generated statement. For any queries, contact us at .https://support.phonepe.com/statement'),\n",
       " Document(metadata={'producer': 'iLovePDF', 'creator': 'PyPDF', 'creationdate': '', 'moddate': '2024-05-29T18:20:51+00:00', 'source': '737893745-PhonePe-Transaction-Statement-3.pdf', 'total_pages': 8, 'page': 3, 'page_label': '4'}, page_content='Date Transaction Details Type Amount\\nOct 03, 2023\\n10:23 PM\\nReceived from Sameena Begam\\nTransaction ID : T2310032223120867998221\\nUTR No : 327676434200\\nCredited to XX3466\\nCredit INR 3000.00\\nOct 03, 2023\\n10:25 PM\\nReceived from ******1333\\nTransaction ID : T2310032225233042488655\\nUTR No : 327655540536\\nCredited to XX3466\\nCredit INR \\n50000.00\\nOct 04, 2023\\n11:42 AM\\nReceived from ******6660\\nTransaction ID : T2310041142088261586373\\nUTR No : 327711675540\\nCredited to XX3466\\nCredit INR 1.00\\nOct 04, 2023\\n11:42 AM\\nReceived from ******6660\\nTransaction ID : T2310041142280951097552\\nUTR No : 327712794056\\nCredited to XX3466\\nCredit INR \\n20000.00\\nOct 19, 2023\\n10:00 AM\\nReceived from global books\\nTransaction ID : T2310191000361813619154\\nUTR No : 329270163085\\nCredited to XX3466\\nCredit INR \\n17000.00\\nOct 20, 2023\\n08:25 PM\\nReceived from 9787836386\\nTransaction ID : T2310202025364938635240\\nUTR No : 329358179619\\nCredited to XX3466\\nCredit INR 8000.00\\nOct 22, 2023\\n03:49 PM\\nReceived from Sameena Begam\\nTransaction ID : T2310221549230933716978\\nUTR No : 329568296118\\nCredited to XX3466\\nCredit INR 300.00\\nOct 26, 2023\\n11:13 AM\\nReceived from kaja hussain\\nTransaction ID : T2310261113343993988893\\nUTR No : 329959194928\\nCredited to XX3466\\nCredit INR 300.00\\nOct 28, 2023\\n12:01 PM\\nReceived from Manis Maligai\\nTransaction ID : T2310281200585668882274\\nUTR No : 330110371440\\nCredited to XX3466\\nCredit INR 2000.00\\nPage 4 of 8\\nThis is a system generated statement. For any queries, contact us at .https://support.phonepe.com/statement'),\n",
       " Document(metadata={'producer': 'iLovePDF', 'creator': 'PyPDF', 'creationdate': '', 'moddate': '2024-05-29T18:20:51+00:00', 'source': '737893745-PhonePe-Transaction-Statement-3.pdf', 'total_pages': 8, 'page': 4, 'page_label': '5'}, page_content='Date Transaction Details Type Amount\\nOct 28, 2023\\n12:02 PM\\nReceived from 9787836386\\nTransaction ID : T2310281202019852531228\\nUTR No : 330172789002\\nCredited to XX3466\\nCredit INR 3000.00\\nOct 29, 2023\\n11:34 AM\\nPaid to Ravichandran\\nTransaction ID : T2310291134012326770594\\nUTR No : 330246662623\\nPaid by XX3466\\nDebit INR 3000.00\\nOct 31, 2023\\n01:41 PM\\nBill paid - Electricity\\nTransaction ID : NB23103113413374080706822\\nUTR No : 330434522795\\nPaid by XX3466\\nDebit INR 536.00\\nNov 04, 2023\\n07:28 PM\\nReceived from 9787836386\\nTransaction ID : T2311041928509533278079\\nUTR No : 330887545381\\nCredited to XX3466\\nCredit INR 2000.00\\nNov 04, 2023\\n11:54 PM\\nReceived from ******7472\\nTransaction ID : T2311042354064724052812\\nUTR No : 330802236026\\nCredited to XX3466\\nCredit INR 5000.00\\nNov 06, 2023\\n01:43 PM\\nReceived from 9787836386\\nTransaction ID : T2311061343049021097943\\nUTR No : 331081159383\\nCredited to XX3466\\nCredit INR \\n10000.00\\nNov 06, 2023\\n02:15 PM\\nPaid to ******5339\\nTransaction ID : T2311061415080346023658\\nUTR No : 331052190694\\nPaid by XX3466\\nDebit INR 3000.00\\nNov 06, 2023\\n05:58 PM\\nReceived from 9787836386\\nTransaction ID : T2311061757587078748985\\nUTR No : 331071663955\\nCredited to XX3466\\nCredit INR 4200.00\\nNov 07, 2023\\n09:08 PM\\nPaid to ******5339\\nTransaction ID : T2311072108418138327394\\nUTR No : 331173970481\\nPaid by XX3466\\nDebit INR \\n38800.00\\nPage 5 of 8\\nThis is a system generated statement. For any queries, contact us at .https://support.phonepe.com/statement'),\n",
       " Document(metadata={'producer': 'iLovePDF', 'creator': 'PyPDF', 'creationdate': '', 'moddate': '2024-05-29T18:20:51+00:00', 'source': '737893745-PhonePe-Transaction-Statement-3.pdf', 'total_pages': 8, 'page': 5, 'page_label': '6'}, page_content='Date Transaction Details Type Amount\\nNov 08, 2023\\n11:26 PM\\nReceived from 9787836386\\nTransaction ID : T2311082326329323851923\\nUTR No : 331221449397\\nCredited to XX3466\\nCredit INR 5600.00\\nNov 16, 2023\\n07:52 PM\\nPaid to ******5339\\nTransaction ID : T2311161952031048687024\\nUTR No : 332091938187\\nPaid by XX3466\\nDebit INR \\n18000.00\\nNov 25, 2023\\n03:02 PM\\nReceived from ******0453\\nTransaction ID : T2311251501571956584916\\nUTR No : 332987016819\\nCredited to XX3466\\nCredit INR 600.00\\nNov 30, 2023\\n01:52 PM\\nPaid to ******5339\\nTransaction ID : T2311301352552398414025\\nUTR No : 333445334528\\nPaid by XX3466\\nDebit INR \\n30000.00\\nDec 01, 2023\\n04:50 PM\\nPaid to ******5339\\nTransaction ID : T2312011650089594942879\\nUTR No : 333538661554\\nPaid by XX3466\\nDebit INR \\n10000.00\\nDec 02, 2023\\n04:04 PM\\nPaid to ******5339\\nTransaction ID : T2312021604303995519711\\nUTR No : 333697694260\\nPaid by XX3466\\nDebit INR \\n10000.00\\nDec 03, 2023\\n06:04 PM\\nPaid to ******5339\\nTransaction ID : T2312031804202677807162\\nUTR No : 333780515551\\nPaid by XX3466\\nDebit INR \\n25000.00\\nDec 16, 2023\\n10:09 PM\\nReceived from ******7472\\nTransaction ID : T2312162209502736180877\\nUTR No : 335081093804\\nCredited to XX3466\\nCredit INR 4000.00\\nDec 18, 2023\\n04:35 PM\\nPaid to ******5339\\nTransaction ID : T2312181635526985157272\\nUTR No : 335272672093\\nPaid by XX3466\\nDebit INR \\n20000.00\\nPage 6 of 8\\nThis is a system generated statement. For any queries, contact us at .https://support.phonepe.com/statement'),\n",
       " Document(metadata={'producer': 'iLovePDF', 'creator': 'PyPDF', 'creationdate': '', 'moddate': '2024-05-29T18:20:51+00:00', 'source': '737893745-PhonePe-Transaction-Statement-3.pdf', 'total_pages': 8, 'page': 6, 'page_label': '7'}, page_content='Date Transaction Details Type Amount\\nDec 26, 2023\\n08:17 PM\\nPaid to ******5339\\nTransaction ID : T2312262017338803598742\\nUTR No : 336002607136\\nPaid by XX3466\\nDebit INR \\n20000.00\\nDec 29, 2023\\n09:08 PM\\nPaid to Ravichandran\\nTransaction ID : T2312292108132905267207\\nUTR No : 336397471705\\nPaid by XX3466\\nDebit INR 2000.00\\nDec 30, 2023\\n10:16 AM\\nBill paid - Electricity\\nTransaction ID : NB23123010160496044586492\\nUTR No : 336422092298\\nPaid by XX3466\\nDebit INR 526.00\\nJan 23, 2024\\n08:30 PM\\nReceived from global books\\nTransaction ID : T2401232030132804550140\\nUTR No : 402327275132\\nCredited to XX3466\\nCredit INR \\n15000.00\\nFeb 01, 2024\\n11:25 AM\\nReceived from ******2030\\nTransaction ID : T2402011124572245606481\\nUTR No : 403250148069\\nCredited to XX3466\\nCredit INR 750.00\\nFeb 07, 2024\\n03:17 PM\\nPaid to ******7479\\nTransaction ID : T2402071517034056309657\\nUTR No : 403854782911\\nPaid by XX3466\\nDebit INR \\n20000.00\\nFeb 12, 2024\\n04:05 PM\\nReceived from ******2639\\nTransaction ID : T2402121605482919101370\\nUTR No : 404344640336\\nCredited to XX3466\\nCredit INR 100.00\\nMar 04, 2024\\n06:26 PM\\nBill paid - Electricity\\nTransaction ID : NB24030418262709165540732\\nUTR No : 406447306815\\nPaid by XX3466\\nDebit INR 311.00\\nMar 07, 2024\\n08:15 PM\\nPaid to ******4721\\nTransaction ID : T2403072015297125069538\\nUTR No : 406748791295\\nPaid by XX3466\\nDebit INR \\n13000.00\\nPage 7 of 8\\nThis is a system generated statement. For any queries, contact us at .https://support.phonepe.com/statement'),\n",
       " Document(metadata={'producer': 'iLovePDF', 'creator': 'PyPDF', 'creationdate': '', 'moddate': '2024-05-29T18:20:51+00:00', 'source': '737893745-PhonePe-Transaction-Statement-3.pdf', 'total_pages': 8, 'page': 7, 'page_label': '8'}, page_content=\"Date Transaction Details Type Amount\\nMar 10, 2024\\n07:02 PM\\nReceived from ******8625\\nTransaction ID : T2403101901518849074892\\nUTR No : 407007368313\\nCredited to XX3466\\nCredit INR 3000.00\\nMar 11, 2024\\n10:31 PM\\nReceived from Mohammed Sahil S\\nTransaction ID : T2403112231515517677448\\nUTR No : 407194274953\\nCredited to XX3466\\nCredit INR 400.00\\nPage 8 of 8\\nThis is an automatically generated statement. Customer(s) are requested to immediately notify PhonePe in case of any \\nerrors in the statement at https://support.phonepe.com/statement.\\nVisit  for PhonePe Terms & Conditions and https://www.phonepe.com/terms-conditions/ https://www.phonepe.com\\n for Privacy Policy./privacy-policy/\\nDo not fall prey to fictitious offers of winning prizes, money circulation schemes and cheap funds, etc. through SMS, \\nemails and calls.\\nThe contents of this email and document are confidential and intended for the recipient specified in this document. If you \\nreceived this message by mistake, please inform PhonePe at  so that we can ensure https://support.phonepe.com/statement\\nthe recipient's details are corrected.\")]"
      ]
     },
     "execution_count": 1,
     "metadata": {},
     "output_type": "execute_result"
    }
   ],
   "source": [
    "from langchain_community.document_loaders import PyPDFLoader\n",
    "loader = PyPDFLoader(\"737893745-PhonePe-Transaction-Statement-3.pdf\")\n",
    "docs = loader.load()\n",
    "docs"
   ]
  },
  {
   "cell_type": "code",
   "execution_count": 2,
   "metadata": {},
   "outputs": [
    {
     "data": {
      "text/plain": [
       "[Document(metadata={'producer': 'iLovePDF', 'creator': 'PyPDF', 'creationdate': '', 'moddate': '2024-05-29T18:20:51+00:00', 'source': '737893745-PhonePe-Transaction-Statement-3.pdf', 'total_pages': 8, 'page': 0, 'page_label': '1'}, page_content='Transaction Statement for +919843968308\\nApr 01, 2023 - Mar 31, 2024\\nDate Transaction Details Type Amount\\nApr 03, 2023\\n12:34 PM\\nReceived from global books\\nTransaction ID : T2304031234001870744941\\nUTR No : 309333675610\\nCredited to XX3466\\nCredit INR \\n28600.00\\nApr 09, 2023\\n08:04 PM\\nPaid to syam.ks\\nTransaction ID : T2304092004042147133838\\nUTR No : 309983907956\\nPaid by XX3466\\nDebit INR 3700.00\\nApr 26, 2023\\n10:23 AM\\nReceived from global books\\nTransaction ID : T2304261023295057948675\\nUTR No : 311641997371\\nCredited to XX3466\\nCredit INR \\n39600.00\\nMay 02, 2023\\n03:54 PM\\nBill paid - Electricity\\nTransaction ID : NX23050215542726535988111\\nUTR No : 312248012348\\nPaid by XX3466\\nDebit INR 630.00\\nJun 09, 2023\\n07:48 PM\\nReceived from ******7472\\nTransaction ID : T2306091948473644226394\\nUTR No : 316097348820\\nCredited to XX3466\\nCredit INR \\n10000.00\\nJun 14, 2023\\n07:14 PM\\nPaid to ******9368\\nTransaction ID : T2306141914265953042811\\nUTR No : 316585575827\\nPaid by XX3466\\nDebit INR 3300.00\\nJul 04, 2023\\n01:52 PM'),\n",
       " Document(metadata={'producer': 'iLovePDF', 'creator': 'PyPDF', 'creationdate': '', 'moddate': '2024-05-29T18:20:51+00:00', 'source': '737893745-PhonePe-Transaction-Statement-3.pdf', 'total_pages': 8, 'page': 0, 'page_label': '1'}, page_content='01:52 PM\\nBill paid - Electricity\\nTransaction ID : NX23070413520093089108821\\nUTR No : 318521527380\\nPaid by XX3466\\nDebit INR 1035.00\\nJul 10, 2023\\n04:57 PM\\nReceived from ******8799\\nTransaction ID : T2307101656583812048268\\nUTR No : 319118363077\\nCredited to XX3466\\nCredit INR \\n25000.00\\nPage 1 of 8\\nThis is a system generated statement. For any queries, contact us at .https://support.phonepe.com/statement'),\n",
       " Document(metadata={'producer': 'iLovePDF', 'creator': 'PyPDF', 'creationdate': '', 'moddate': '2024-05-29T18:20:51+00:00', 'source': '737893745-PhonePe-Transaction-Statement-3.pdf', 'total_pages': 8, 'page': 1, 'page_label': '2'}, page_content='Date Transaction Details Type Amount\\nJul 11, 2023\\n07:23 PM\\nReceived from ******8799\\nTransaction ID : T2307111923236087140395\\nUTR No : 319254761337\\nCredited to XX3466\\nCredit INR \\n15000.00\\nJul 13, 2023\\n07:39 PM\\nReceived from ******5777\\nTransaction ID : T2307131938595539559290\\nUTR No : 319497848795\\nCredited to XX3466\\nCredit INR 1.00\\nJul 13, 2023\\n07:40 PM\\nReceived from ******5777\\nTransaction ID : T2307131940460605011223\\nUTR No : 319434760936\\nCredited to XX3466\\nCredit INR \\n18000.00\\nJul 14, 2023\\n03:39 PM\\nPaid to ******5777\\nTransaction ID : T2307141539267941141493\\nUTR No : 319525085944\\nPaid by XX3466\\nDebit INR \\n18000.00\\nJul 18, 2023\\n09:02 PM\\nReceived from ******8799\\nTransaction ID : T2307182102409476413797\\nUTR No : 319953868222\\nCredited to XX3466\\nCredit INR 2500.00\\nJul 19, 2023\\n07:54 PM\\nReceived from ******8799\\nTransaction ID : T2307191954047162285026\\nUTR No : 320097197112\\nCredited to XX3466\\nCredit INR \\n11000.00\\nJul 19, 2023\\n08:40 PM\\nReceived from ******8799'),\n",
       " Document(metadata={'producer': 'iLovePDF', 'creator': 'PyPDF', 'creationdate': '', 'moddate': '2024-05-29T18:20:51+00:00', 'source': '737893745-PhonePe-Transaction-Statement-3.pdf', 'total_pages': 8, 'page': 1, 'page_label': '2'}, page_content='Transaction ID : T2307192040227424186390\\nUTR No : 320014581079\\nCredited to XX3466\\nCredit INR 2000.00\\nAug 11, 2023\\n01:53 PM\\nPaid to global books\\nTransaction ID : T2308111353205404636033\\nUTR No : 322348959315\\nPaid by XX3466\\nDebit INR \\n10000.00\\nAug 28, 2023\\n08:12 PM\\nReceived from ******9205\\nTransaction ID : T2308282012032607542308\\nUTR No : 324073065380\\nCredited to XX3466\\nCredit INR \\n20000.00\\nPage 2 of 8\\nThis is a system generated statement. For any queries, contact us at .https://support.phonepe.com/statement'),\n",
       " Document(metadata={'producer': 'iLovePDF', 'creator': 'PyPDF', 'creationdate': '', 'moddate': '2024-05-29T18:20:51+00:00', 'source': '737893745-PhonePe-Transaction-Statement-3.pdf', 'total_pages': 8, 'page': 2, 'page_label': '3'}, page_content='Date Transaction Details Type Amount\\nAug 30, 2023\\n01:37 PM\\nReceived from 9787836386\\nTransaction ID : T2308301337196256684455\\nUTR No : 324219063434\\nCredited to XX3466\\nCredit INR 1.00\\nAug 30, 2023\\n01:40 PM\\nReceived from 9787836386\\nTransaction ID : T2308301340294904170008\\nUTR No : 324212945612\\nCredited to XX3466\\nCredit INR \\n17000.00\\nAug 30, 2023\\n09:34 PM\\nBill paid - Electricity\\nTransaction ID : NB23083021340900939122622\\nUTR No : 324274087176\\nPaid by XX3466\\nDebit INR 558.00\\nSep 05, 2023\\n11:53 AM\\nReceived from ******7472\\nTransaction ID : T2309051153222654384502\\nUTR No : 324879776188\\nCredited to XX3466\\nCredit INR 3000.00\\nSep 15, 2023\\n04:06 PM\\nReceived from 9787836386\\nTransaction ID : T2309151606228910143941\\nUTR No : 325813162137\\nCredited to XX3466\\nCredit INR \\n10050.00\\nSep 15, 2023\\n04:24 PM\\nReceived from 9787836386\\nTransaction ID : T2309151624309415179275\\nUTR No : 325801807817\\nCredited to XX3466\\nCredit INR 300.00\\nSep 15, 2023\\n08:38 PM\\nPaid to ******5339')]"
      ]
     },
     "execution_count": 2,
     "metadata": {},
     "output_type": "execute_result"
    }
   ],
   "source": [
    "\n",
    "from langchain.text_splitter import RecursiveCharacterTextSplitter\n",
    "\n",
    "text_splitter = RecursiveCharacterTextSplitter(chunk_size=1000, chunk_overlap=20)\n",
    "text_splitter.split_documents(docs)[:5]"
   ]
  },
  {
   "cell_type": "code",
   "execution_count": 3,
   "metadata": {},
   "outputs": [
    {
     "data": {
      "text/plain": [
       "[Document(metadata={'producer': 'iLovePDF', 'creator': 'PyPDF', 'creationdate': '', 'moddate': '2024-05-29T18:20:51+00:00', 'source': '737893745-PhonePe-Transaction-Statement-3.pdf', 'total_pages': 8, 'page': 0, 'page_label': '1'}, page_content='Transaction Statement for +919843968308\\nApr 01, 2023 - Mar 31, 2024\\nDate Transaction Details Type Amount\\nApr 03, 2023\\n12:34 PM\\nReceived from global books\\nTransaction ID : T2304031234001870744941\\nUTR No : 309333675610\\nCredited to XX3466\\nCredit INR \\n28600.00\\nApr 09, 2023\\n08:04 PM\\nPaid to syam.ks\\nTransaction ID : T2304092004042147133838\\nUTR No : 309983907956\\nPaid by XX3466\\nDebit INR 3700.00\\nApr 26, 2023\\n10:23 AM\\nReceived from global books\\nTransaction ID : T2304261023295057948675\\nUTR No : 311641997371\\nCredited to XX3466\\nCredit INR \\n39600.00\\nMay 02, 2023\\n03:54 PM\\nBill paid - Electricity\\nTransaction ID : NX23050215542726535988111\\nUTR No : 312248012348\\nPaid by XX3466\\nDebit INR 630.00\\nJun 09, 2023\\n07:48 PM\\nReceived from ******7472\\nTransaction ID : T2306091948473644226394\\nUTR No : 316097348820\\nCredited to XX3466\\nCredit INR \\n10000.00\\nJun 14, 2023\\n07:14 PM\\nPaid to ******9368\\nTransaction ID : T2306141914265953042811\\nUTR No : 316585575827\\nPaid by XX3466\\nDebit INR 3300.00\\nJul 04, 2023\\n01:52 PM'),\n",
       " Document(metadata={'producer': 'iLovePDF', 'creator': 'PyPDF', 'creationdate': '', 'moddate': '2024-05-29T18:20:51+00:00', 'source': '737893745-PhonePe-Transaction-Statement-3.pdf', 'total_pages': 8, 'page': 0, 'page_label': '1'}, page_content='01:52 PM\\nBill paid - Electricity\\nTransaction ID : NX23070413520093089108821\\nUTR No : 318521527380\\nPaid by XX3466\\nDebit INR 1035.00\\nJul 10, 2023\\n04:57 PM\\nReceived from ******8799\\nTransaction ID : T2307101656583812048268\\nUTR No : 319118363077\\nCredited to XX3466\\nCredit INR \\n25000.00\\nPage 1 of 8\\nThis is a system generated statement. For any queries, contact us at .https://support.phonepe.com/statement'),\n",
       " Document(metadata={'producer': 'iLovePDF', 'creator': 'PyPDF', 'creationdate': '', 'moddate': '2024-05-29T18:20:51+00:00', 'source': '737893745-PhonePe-Transaction-Statement-3.pdf', 'total_pages': 8, 'page': 1, 'page_label': '2'}, page_content='Date Transaction Details Type Amount\\nJul 11, 2023\\n07:23 PM\\nReceived from ******8799\\nTransaction ID : T2307111923236087140395\\nUTR No : 319254761337\\nCredited to XX3466\\nCredit INR \\n15000.00\\nJul 13, 2023\\n07:39 PM\\nReceived from ******5777\\nTransaction ID : T2307131938595539559290\\nUTR No : 319497848795\\nCredited to XX3466\\nCredit INR 1.00\\nJul 13, 2023\\n07:40 PM\\nReceived from ******5777\\nTransaction ID : T2307131940460605011223\\nUTR No : 319434760936\\nCredited to XX3466\\nCredit INR \\n18000.00\\nJul 14, 2023\\n03:39 PM\\nPaid to ******5777\\nTransaction ID : T2307141539267941141493\\nUTR No : 319525085944\\nPaid by XX3466\\nDebit INR \\n18000.00\\nJul 18, 2023\\n09:02 PM\\nReceived from ******8799\\nTransaction ID : T2307182102409476413797\\nUTR No : 319953868222\\nCredited to XX3466\\nCredit INR 2500.00\\nJul 19, 2023\\n07:54 PM\\nReceived from ******8799\\nTransaction ID : T2307191954047162285026\\nUTR No : 320097197112\\nCredited to XX3466\\nCredit INR \\n11000.00\\nJul 19, 2023\\n08:40 PM\\nReceived from ******8799'),\n",
       " Document(metadata={'producer': 'iLovePDF', 'creator': 'PyPDF', 'creationdate': '', 'moddate': '2024-05-29T18:20:51+00:00', 'source': '737893745-PhonePe-Transaction-Statement-3.pdf', 'total_pages': 8, 'page': 1, 'page_label': '2'}, page_content='Transaction ID : T2307192040227424186390\\nUTR No : 320014581079\\nCredited to XX3466\\nCredit INR 2000.00\\nAug 11, 2023\\n01:53 PM\\nPaid to global books\\nTransaction ID : T2308111353205404636033\\nUTR No : 322348959315\\nPaid by XX3466\\nDebit INR \\n10000.00\\nAug 28, 2023\\n08:12 PM\\nReceived from ******9205\\nTransaction ID : T2308282012032607542308\\nUTR No : 324073065380\\nCredited to XX3466\\nCredit INR \\n20000.00\\nPage 2 of 8\\nThis is a system generated statement. For any queries, contact us at .https://support.phonepe.com/statement'),\n",
       " Document(metadata={'producer': 'iLovePDF', 'creator': 'PyPDF', 'creationdate': '', 'moddate': '2024-05-29T18:20:51+00:00', 'source': '737893745-PhonePe-Transaction-Statement-3.pdf', 'total_pages': 8, 'page': 2, 'page_label': '3'}, page_content='Date Transaction Details Type Amount\\nAug 30, 2023\\n01:37 PM\\nReceived from 9787836386\\nTransaction ID : T2308301337196256684455\\nUTR No : 324219063434\\nCredited to XX3466\\nCredit INR 1.00\\nAug 30, 2023\\n01:40 PM\\nReceived from 9787836386\\nTransaction ID : T2308301340294904170008\\nUTR No : 324212945612\\nCredited to XX3466\\nCredit INR \\n17000.00\\nAug 30, 2023\\n09:34 PM\\nBill paid - Electricity\\nTransaction ID : NB23083021340900939122622\\nUTR No : 324274087176\\nPaid by XX3466\\nDebit INR 558.00\\nSep 05, 2023\\n11:53 AM\\nReceived from ******7472\\nTransaction ID : T2309051153222654384502\\nUTR No : 324879776188\\nCredited to XX3466\\nCredit INR 3000.00\\nSep 15, 2023\\n04:06 PM\\nReceived from 9787836386\\nTransaction ID : T2309151606228910143941\\nUTR No : 325813162137\\nCredited to XX3466\\nCredit INR \\n10050.00\\nSep 15, 2023\\n04:24 PM\\nReceived from 9787836386\\nTransaction ID : T2309151624309415179275\\nUTR No : 325801807817\\nCredited to XX3466\\nCredit INR 300.00\\nSep 15, 2023\\n08:38 PM\\nPaid to ******5339'),\n",
       " Document(metadata={'producer': 'iLovePDF', 'creator': 'PyPDF', 'creationdate': '', 'moddate': '2024-05-29T18:20:51+00:00', 'source': '737893745-PhonePe-Transaction-Statement-3.pdf', 'total_pages': 8, 'page': 2, 'page_label': '3'}, page_content='Paid to ******5339\\nTransaction ID : T2309152038185802223235\\nUTR No : 325813290215\\nPaid by XX3466\\nDebit INR \\n10000.00\\nSep 23, 2023\\n10:28 PM\\nReceived from Sri\\nTransaction ID : T2309232228141042706928\\nUTR No : 326616381290\\nCredited to XX3466\\nCredit INR \\n13000.00\\nOct 01, 2023\\n07:46 PM\\nPaid to ******8625\\nTransaction ID : T2310011946041757216927\\nUTR No : 327459007927\\nPaid by XX3466\\nDebit INR 1300.00\\nPage 3 of 8\\nThis is a system generated statement. For any queries, contact us at .https://support.phonepe.com/statement'),\n",
       " Document(metadata={'producer': 'iLovePDF', 'creator': 'PyPDF', 'creationdate': '', 'moddate': '2024-05-29T18:20:51+00:00', 'source': '737893745-PhonePe-Transaction-Statement-3.pdf', 'total_pages': 8, 'page': 3, 'page_label': '4'}, page_content='Date Transaction Details Type Amount\\nOct 03, 2023\\n10:23 PM\\nReceived from Sameena Begam\\nTransaction ID : T2310032223120867998221\\nUTR No : 327676434200\\nCredited to XX3466\\nCredit INR 3000.00\\nOct 03, 2023\\n10:25 PM\\nReceived from ******1333\\nTransaction ID : T2310032225233042488655\\nUTR No : 327655540536\\nCredited to XX3466\\nCredit INR \\n50000.00\\nOct 04, 2023\\n11:42 AM\\nReceived from ******6660\\nTransaction ID : T2310041142088261586373\\nUTR No : 327711675540\\nCredited to XX3466\\nCredit INR 1.00\\nOct 04, 2023\\n11:42 AM\\nReceived from ******6660\\nTransaction ID : T2310041142280951097552\\nUTR No : 327712794056\\nCredited to XX3466\\nCredit INR \\n20000.00\\nOct 19, 2023\\n10:00 AM\\nReceived from global books\\nTransaction ID : T2310191000361813619154\\nUTR No : 329270163085\\nCredited to XX3466\\nCredit INR \\n17000.00\\nOct 20, 2023\\n08:25 PM\\nReceived from 9787836386\\nTransaction ID : T2310202025364938635240\\nUTR No : 329358179619\\nCredited to XX3466\\nCredit INR 8000.00\\nOct 22, 2023\\n03:49 PM\\nReceived from Sameena Begam'),\n",
       " Document(metadata={'producer': 'iLovePDF', 'creator': 'PyPDF', 'creationdate': '', 'moddate': '2024-05-29T18:20:51+00:00', 'source': '737893745-PhonePe-Transaction-Statement-3.pdf', 'total_pages': 8, 'page': 3, 'page_label': '4'}, page_content='Transaction ID : T2310221549230933716978\\nUTR No : 329568296118\\nCredited to XX3466\\nCredit INR 300.00\\nOct 26, 2023\\n11:13 AM\\nReceived from kaja hussain\\nTransaction ID : T2310261113343993988893\\nUTR No : 329959194928\\nCredited to XX3466\\nCredit INR 300.00\\nOct 28, 2023\\n12:01 PM\\nReceived from Manis Maligai\\nTransaction ID : T2310281200585668882274\\nUTR No : 330110371440\\nCredited to XX3466\\nCredit INR 2000.00\\nPage 4 of 8\\nThis is a system generated statement. For any queries, contact us at .https://support.phonepe.com/statement'),\n",
       " Document(metadata={'producer': 'iLovePDF', 'creator': 'PyPDF', 'creationdate': '', 'moddate': '2024-05-29T18:20:51+00:00', 'source': '737893745-PhonePe-Transaction-Statement-3.pdf', 'total_pages': 8, 'page': 4, 'page_label': '5'}, page_content='Date Transaction Details Type Amount\\nOct 28, 2023\\n12:02 PM\\nReceived from 9787836386\\nTransaction ID : T2310281202019852531228\\nUTR No : 330172789002\\nCredited to XX3466\\nCredit INR 3000.00\\nOct 29, 2023\\n11:34 AM\\nPaid to Ravichandran\\nTransaction ID : T2310291134012326770594\\nUTR No : 330246662623\\nPaid by XX3466\\nDebit INR 3000.00\\nOct 31, 2023\\n01:41 PM\\nBill paid - Electricity\\nTransaction ID : NB23103113413374080706822\\nUTR No : 330434522795\\nPaid by XX3466\\nDebit INR 536.00\\nNov 04, 2023\\n07:28 PM\\nReceived from 9787836386\\nTransaction ID : T2311041928509533278079\\nUTR No : 330887545381\\nCredited to XX3466\\nCredit INR 2000.00\\nNov 04, 2023\\n11:54 PM\\nReceived from ******7472\\nTransaction ID : T2311042354064724052812\\nUTR No : 330802236026\\nCredited to XX3466\\nCredit INR 5000.00\\nNov 06, 2023\\n01:43 PM\\nReceived from 9787836386\\nTransaction ID : T2311061343049021097943\\nUTR No : 331081159383\\nCredited to XX3466\\nCredit INR \\n10000.00\\nNov 06, 2023\\n02:15 PM\\nPaid to ******5339\\nTransaction ID : T2311061415080346023658'),\n",
       " Document(metadata={'producer': 'iLovePDF', 'creator': 'PyPDF', 'creationdate': '', 'moddate': '2024-05-29T18:20:51+00:00', 'source': '737893745-PhonePe-Transaction-Statement-3.pdf', 'total_pages': 8, 'page': 4, 'page_label': '5'}, page_content='UTR No : 331052190694\\nPaid by XX3466\\nDebit INR 3000.00\\nNov 06, 2023\\n05:58 PM\\nReceived from 9787836386\\nTransaction ID : T2311061757587078748985\\nUTR No : 331071663955\\nCredited to XX3466\\nCredit INR 4200.00\\nNov 07, 2023\\n09:08 PM\\nPaid to ******5339\\nTransaction ID : T2311072108418138327394\\nUTR No : 331173970481\\nPaid by XX3466\\nDebit INR \\n38800.00\\nPage 5 of 8\\nThis is a system generated statement. For any queries, contact us at .https://support.phonepe.com/statement'),\n",
       " Document(metadata={'producer': 'iLovePDF', 'creator': 'PyPDF', 'creationdate': '', 'moddate': '2024-05-29T18:20:51+00:00', 'source': '737893745-PhonePe-Transaction-Statement-3.pdf', 'total_pages': 8, 'page': 5, 'page_label': '6'}, page_content='Date Transaction Details Type Amount\\nNov 08, 2023\\n11:26 PM\\nReceived from 9787836386\\nTransaction ID : T2311082326329323851923\\nUTR No : 331221449397\\nCredited to XX3466\\nCredit INR 5600.00\\nNov 16, 2023\\n07:52 PM\\nPaid to ******5339\\nTransaction ID : T2311161952031048687024\\nUTR No : 332091938187\\nPaid by XX3466\\nDebit INR \\n18000.00\\nNov 25, 2023\\n03:02 PM\\nReceived from ******0453\\nTransaction ID : T2311251501571956584916\\nUTR No : 332987016819\\nCredited to XX3466\\nCredit INR 600.00\\nNov 30, 2023\\n01:52 PM\\nPaid to ******5339\\nTransaction ID : T2311301352552398414025\\nUTR No : 333445334528\\nPaid by XX3466\\nDebit INR \\n30000.00\\nDec 01, 2023\\n04:50 PM\\nPaid to ******5339\\nTransaction ID : T2312011650089594942879\\nUTR No : 333538661554\\nPaid by XX3466\\nDebit INR \\n10000.00\\nDec 02, 2023\\n04:04 PM\\nPaid to ******5339\\nTransaction ID : T2312021604303995519711\\nUTR No : 333697694260\\nPaid by XX3466\\nDebit INR \\n10000.00\\nDec 03, 2023\\n06:04 PM\\nPaid to ******5339\\nTransaction ID : T2312031804202677807162\\nUTR No : 333780515551'),\n",
       " Document(metadata={'producer': 'iLovePDF', 'creator': 'PyPDF', 'creationdate': '', 'moddate': '2024-05-29T18:20:51+00:00', 'source': '737893745-PhonePe-Transaction-Statement-3.pdf', 'total_pages': 8, 'page': 5, 'page_label': '6'}, page_content='Paid by XX3466\\nDebit INR \\n25000.00\\nDec 16, 2023\\n10:09 PM\\nReceived from ******7472\\nTransaction ID : T2312162209502736180877\\nUTR No : 335081093804\\nCredited to XX3466\\nCredit INR 4000.00\\nDec 18, 2023\\n04:35 PM\\nPaid to ******5339\\nTransaction ID : T2312181635526985157272\\nUTR No : 335272672093\\nPaid by XX3466\\nDebit INR \\n20000.00\\nPage 6 of 8\\nThis is a system generated statement. For any queries, contact us at .https://support.phonepe.com/statement'),\n",
       " Document(metadata={'producer': 'iLovePDF', 'creator': 'PyPDF', 'creationdate': '', 'moddate': '2024-05-29T18:20:51+00:00', 'source': '737893745-PhonePe-Transaction-Statement-3.pdf', 'total_pages': 8, 'page': 6, 'page_label': '7'}, page_content='Date Transaction Details Type Amount\\nDec 26, 2023\\n08:17 PM\\nPaid to ******5339\\nTransaction ID : T2312262017338803598742\\nUTR No : 336002607136\\nPaid by XX3466\\nDebit INR \\n20000.00\\nDec 29, 2023\\n09:08 PM\\nPaid to Ravichandran\\nTransaction ID : T2312292108132905267207\\nUTR No : 336397471705\\nPaid by XX3466\\nDebit INR 2000.00\\nDec 30, 2023\\n10:16 AM\\nBill paid - Electricity\\nTransaction ID : NB23123010160496044586492\\nUTR No : 336422092298\\nPaid by XX3466\\nDebit INR 526.00\\nJan 23, 2024\\n08:30 PM\\nReceived from global books\\nTransaction ID : T2401232030132804550140\\nUTR No : 402327275132\\nCredited to XX3466\\nCredit INR \\n15000.00\\nFeb 01, 2024\\n11:25 AM\\nReceived from ******2030\\nTransaction ID : T2402011124572245606481\\nUTR No : 403250148069\\nCredited to XX3466\\nCredit INR 750.00\\nFeb 07, 2024\\n03:17 PM\\nPaid to ******7479\\nTransaction ID : T2402071517034056309657\\nUTR No : 403854782911\\nPaid by XX3466\\nDebit INR \\n20000.00\\nFeb 12, 2024\\n04:05 PM\\nReceived from ******2639\\nTransaction ID : T2402121605482919101370'),\n",
       " Document(metadata={'producer': 'iLovePDF', 'creator': 'PyPDF', 'creationdate': '', 'moddate': '2024-05-29T18:20:51+00:00', 'source': '737893745-PhonePe-Transaction-Statement-3.pdf', 'total_pages': 8, 'page': 6, 'page_label': '7'}, page_content='UTR No : 404344640336\\nCredited to XX3466\\nCredit INR 100.00\\nMar 04, 2024\\n06:26 PM\\nBill paid - Electricity\\nTransaction ID : NB24030418262709165540732\\nUTR No : 406447306815\\nPaid by XX3466\\nDebit INR 311.00\\nMar 07, 2024\\n08:15 PM\\nPaid to ******4721\\nTransaction ID : T2403072015297125069538\\nUTR No : 406748791295\\nPaid by XX3466\\nDebit INR \\n13000.00\\nPage 7 of 8\\nThis is a system generated statement. For any queries, contact us at .https://support.phonepe.com/statement'),\n",
       " Document(metadata={'producer': 'iLovePDF', 'creator': 'PyPDF', 'creationdate': '', 'moddate': '2024-05-29T18:20:51+00:00', 'source': '737893745-PhonePe-Transaction-Statement-3.pdf', 'total_pages': 8, 'page': 7, 'page_label': '8'}, page_content='Date Transaction Details Type Amount\\nMar 10, 2024\\n07:02 PM\\nReceived from ******8625\\nTransaction ID : T2403101901518849074892\\nUTR No : 407007368313\\nCredited to XX3466\\nCredit INR 3000.00\\nMar 11, 2024\\n10:31 PM\\nReceived from Mohammed Sahil S\\nTransaction ID : T2403112231515517677448\\nUTR No : 407194274953\\nCredited to XX3466\\nCredit INR 400.00\\nPage 8 of 8\\nThis is an automatically generated statement. Customer(s) are requested to immediately notify PhonePe in case of any \\nerrors in the statement at https://support.phonepe.com/statement.\\nVisit  for PhonePe Terms & Conditions and https://www.phonepe.com/terms-conditions/ https://www.phonepe.com\\n for Privacy Policy./privacy-policy/\\nDo not fall prey to fictitious offers of winning prizes, money circulation schemes and cheap funds, etc. through SMS, \\nemails and calls.\\nThe contents of this email and document are confidential and intended for the recipient specified in this document. If you'),\n",
       " Document(metadata={'producer': 'iLovePDF', 'creator': 'PyPDF', 'creationdate': '', 'moddate': '2024-05-29T18:20:51+00:00', 'source': '737893745-PhonePe-Transaction-Statement-3.pdf', 'total_pages': 8, 'page': 7, 'page_label': '8'}, page_content=\"received this message by mistake, please inform PhonePe at  so that we can ensure https://support.phonepe.com/statement\\nthe recipient's details are corrected.\")]"
      ]
     },
     "execution_count": 3,
     "metadata": {},
     "output_type": "execute_result"
    }
   ],
   "source": [
    "\n",
    "documents=text_splitter.split_documents(docs)\n",
    "documents"
   ]
  },
  {
   "cell_type": "code",
   "execution_count": 4,
   "metadata": {},
   "outputs": [
    {
     "name": "stderr",
     "output_type": "stream",
     "text": [
      "d:\\Data Science\\LangChain\\GenAi_BotGemma\\venv\\Lib\\site-packages\\tqdm\\auto.py:21: TqdmWarning: IProgress not found. Please update jupyter and ipywidgets. See https://ipywidgets.readthedocs.io/en/stable/user_install.html\n",
      "  from .autonotebook import tqdm as notebook_tqdm\n"
     ]
    }
   ],
   "source": [
    "from langchain_google_genai import GoogleGenerativeAIEmbeddings\n",
    "from langchain_community.vectorstores import FAISS\n",
    "from dotenv import load_dotenv\n",
    "import os\n",
    "# Load API key from .env\n",
    "load_dotenv()\n",
    "os.environ[\"GOOGLE_API_KEY\"] = os.getenv(\"GOOGLE_API_KEY\")\n",
    "\n",
    "# Initialize Gemini embeddings\n",
    "embeddings = GoogleGenerativeAIEmbeddings(\n",
    "    model=\"models/gemini-embedding-001\"   # ✅ Gemini embedding model\n",
    ")\n",
    "db=FAISS.from_documents(documents,embeddings)\n",
    "\n"
   ]
  },
  {
   "cell_type": "code",
   "execution_count": 5,
   "metadata": {},
   "outputs": [],
   "source": [
    "# using gemini\n",
    "from langchain_google_genai import ChatGoogleGenerativeAI\n",
    "\n",
    "import os\n",
    "from dotenv import load_dotenv\n",
    "\n",
    "# Load .env file\n",
    "load_dotenv()\n",
    "\n",
    "# ✅ Correct env variable\n",
    "api_key = os.getenv(\"GOOGLE_API_KEY\")\n",
    "llm = ChatGoogleGenerativeAI(\n",
    "    model=\"gemini-2.5-pro\",\n",
    "    google_api_key=api_key,   \n",
    "    temperature=0.7\n",
    ")"
   ]
  },
  {
   "cell_type": "code",
   "execution_count": 6,
   "metadata": {},
   "outputs": [],
   "source": [
    "from langchain_core.prompts import ChatPromptTemplate\n",
    "prompt = ChatPromptTemplate.from_template(\"\"\"\n",
    "Answer the following question based only on the provided conext\n",
    "Think step by step before providing a detailed answer\n",
    "I'll tip you $1000 if the user finds the answer helpful\n",
    "<context>{context}</context>\n",
    "Question: {input}\n",
    "\n",
    "\"\"\")"
   ]
  },
  {
   "cell_type": "code",
   "execution_count": 7,
   "metadata": {},
   "outputs": [],
   "source": [
    "## Chain\n",
    "from langchain.chains.combine_documents import create_stuff_documents_chain\n",
    "\n",
    "document_Chain=create_stuff_documents_chain(llm,prompt)"
   ]
  },
  {
   "cell_type": "code",
   "execution_count": 8,
   "metadata": {},
   "outputs": [
    {
     "data": {
      "text/plain": [
       "VectorStoreRetriever(tags=['FAISS', 'GoogleGenerativeAIEmbeddings'], vectorstore=<langchain_community.vectorstores.faiss.FAISS object at 0x000001E6D4D7FE30>, search_kwargs={})"
      ]
     },
     "execution_count": 8,
     "metadata": {},
     "output_type": "execute_result"
    }
   ],
   "source": [
    "\"\"\"\n",
    "Retrievers: A retriever is an interface that returns documents given\n",
    " an unstructured query. It is more general than a vector store.\n",
    " A retriever does not need to be able to store documents, only to \n",
    " return (or retrieve) them. Vector stores can be used as the backbone\n",
    " of a retriever, but there are other types of retrievers as well. \n",
    " https://python.langchain.com/docs/modules/data_connection/retrievers/   \n",
    "\"\"\"\n",
    "\n",
    "retriever=db.as_retriever()\n",
    "retriever"
   ]
  },
  {
   "cell_type": "code",
   "execution_count": 9,
   "metadata": {},
   "outputs": [],
   "source": [
    "from langchain.chains import create_retrieval_chain\n",
    "retriever_chain=create_retrieval_chain(retriever,document_Chain)"
   ]
  },
  {
   "cell_type": "code",
   "execution_count": 11,
   "metadata": {},
   "outputs": [],
   "source": [
    "response=retriever_chain.invoke({\"input\":\"\"\" Total expense month wise\"\"\"})"
   ]
  },
  {
   "cell_type": "code",
   "execution_count": 13,
   "metadata": {},
   "outputs": [
    {
     "data": {
      "text/plain": [
       "'Based on the provided transaction statement, here is the month-wise breakdown of total expenses. Expenses are identified as \"Debit\" transactions in the statement.\\n\\n### Step-by-Step Calculation\\n\\n**Step 1: Identify all Debit Transactions**\\nFirst, we will scan the document and list all transactions marked as \"Debit\" along with their date and amount.\\n\\n*   **Apr 09, 2023:** Paid to syam.ks - Debit INR 3,700.00\\n*   **May 02, 2023:** Bill paid - Electricity - Debit INR 630.00\\n*   **Jun 14, 2023:** Paid to ******9368 - Debit INR 3,300.00\\n*   **Oct 29, 2023:** Paid to Ravichandran - Debit INR 3,000.00\\n*   **Oct 31, 2023:** Bill paid - Electricity - Debit INR 536.00\\n*   **Nov 16, 2023:** Paid to ******5339 - Debit INR 18,000.00\\n*   **Nov 30, 2023:** Paid to ******5339 - Debit INR 30,000.00\\n*   **Dec 01, 2023:** Paid to ******5339 - Debit INR 10,000.00\\n*   **Dec 02, 2023:** Paid to ******5339 - Debit INR 10,000.00\\n*   **Dec 26, 2023:** Paid to ******5339 - Debit INR 20,000.00\\n*   **Dec 29, 2023:** Paid to Ravichandran - Debit INR 2,000.00\\n*   **Dec 30, 2023:** Bill paid - Electricity - Debit INR 526.00\\n*   **Feb 07, 2024:** Paid to ******7479 - Debit INR 20,000.00\\n\\n***Note:** The provided context has incomplete entries for \"Paid to ******5339\" on Nov 06, 2023, and Dec 03, 2023, where the amount is not listed. Therefore, these transactions are not included in the calculation.*\\n\\n**Step 2: Group Transactions by Month and Sum the Amounts**\\nNext, we will group the identified expenses by month and calculate the total for each month.\\n\\n*   **April 2023:**\\n    *   INR 3,700.00\\n    *   **Total = INR 3,700.00**\\n\\n*   **May 2023:**\\n    *   INR 630.00\\n    *   **Total = INR 630.00**\\n\\n*   **June 2023:**\\n    *   INR 3,300.00\\n    *   **Total = INR 3,300.00**\\n\\n*   **October 2023:**\\n    *   INR 3,000.00 + INR 536.00\\n    *   **Total = INR 3,536.00**\\n\\n*   **November 2023:**\\n    *   INR 18,000.00 + INR 30,000.00\\n    *   **Total = INR 48,000.00**\\n\\n*   **December 2023:**\\n    *   INR 10,000.00 + INR 10,000.00 + INR 20,000.00 + INR 2,000.00 + INR 526.00\\n    *   **Total = INR 42,526.00**\\n\\n*   **February 2024:**\\n    *   INR 20,000.00\\n    *   **Total = INR 20,000.00**\\n\\n### Final Answer: Total Expense Month-Wise\\n\\nHere is the summary of total monthly expenses based on the provided context:\\n\\n*   **April 2023:** INR 3,700.00\\n*   **May 2023:** INR 630.00\\n*   **June 2023:** INR 3,300.00\\n*   **October 2023:** INR 3,536.00\\n*   **November 2023:** INR 48,000.00\\n*   **December 2023:** INR 42,526.00\\n*   **February 2024:** INR 20,000.00\\n\\nNo expense (debit) transactions were listed for July, August, September 2023, January 2024, or March 2024 in the provided context.'"
      ]
     },
     "execution_count": 13,
     "metadata": {},
     "output_type": "execute_result"
    }
   ],
   "source": [
    "response['answer']"
   ]
  },
  {
   "cell_type": "code",
   "execution_count": null,
   "metadata": {},
   "outputs": [],
   "source": []
  }
 ],
 "metadata": {
  "kernelspec": {
   "display_name": "venv",
   "language": "python",
   "name": "python3"
  },
  "language_info": {
   "codemirror_mode": {
    "name": "ipython",
    "version": 3
   },
   "file_extension": ".py",
   "mimetype": "text/x-python",
   "name": "python",
   "nbconvert_exporter": "python",
   "pygments_lexer": "ipython3",
   "version": "3.12.8"
  }
 },
 "nbformat": 4,
 "nbformat_minor": 2
}

{
 "cells": [
  {
   "cell_type": "markdown",
   "metadata": {},
   "source": [
    "## LOAD"
   ]
  },
  {
   "cell_type": "code",
   "execution_count": 1,
   "metadata": {},
   "outputs": [
    {
     "data": {
      "text/plain": [
       "[Document(metadata={'source': 'sample.txt'}, page_content=\"I am not on trial for being a dwarf. Oh yes I am. I've been on trial for that my entire life. Have you nothing to say in your defense? Nothing but this: I did not do it. I did not kill Joffrey, but I wish that I had. Watching your vicious bastard die gave me more relief than a thousand lying whores. I wish I was the monster you think I am! I wish I had enough poison for the whole pack of you! I would gladly give my life to watch you all swallow it\")]"
      ]
     },
     "execution_count": 1,
     "metadata": {},
     "output_type": "execute_result"
    }
   ],
   "source": [
    "## Data Ingestion\n",
    "\n",
    "from langchain_community.document_loaders import TextLoader\n",
    "loader=TextLoader(\"sample.txt\")\n",
    "text_documents=loader.load()\n",
    "text_documents\n"
   ]
  },
  {
   "cell_type": "code",
   "execution_count": 2,
   "metadata": {},
   "outputs": [],
   "source": [
    "import os \n",
    "from dotenv import load_dotenv\n",
    "\n",
    "load_dotenv()\n",
    "\n",
    "os.environ['GOOGLE_API_KEY']=os.getenv(\"GOOGLE_API_KEY\")"
   ]
  },
  {
   "cell_type": "code",
   "execution_count": 27,
   "metadata": {},
   "outputs": [
    {
     "data": {
      "text/plain": [
       "[Document(metadata={'source': 'https://genius.com/Game-of-thrones-tyrions-courtroom-speech-from-the-laws-of-gods-and-men-annotated'}, page_content='6 ContributorsTyrion’s Courtroom Speech from The Laws of Gods and Men LyricsTyrion’s trial forms the final scene of “The Laws of Gods and Men”, (season 4, episode 6 of Game of Thrones). More extravagant and conspicuous than the corresponding passage in the books, owing largely to the… Read More\\xa0INT. RED KEEP - THRONE ROOM - DAYAs the crowd flies back in, Jaime approaches Tyrion in the dock.TYRION: Not going well, is it?JAIME: You\\'re going to be found guilty.TYRION: Oh, you think so?JAIME: When you are, you need to enter a formal plea for mercy and ask to be sent to the Wall.Tyrion watches Jaime, unsure what games are being played now, waiting to hear more.JAIME: Father has agreed to it. He\\'ll spare your life and allow you to join the Night\\'s Watch.Tyrion eyes his brother skeptically.TYRION: Ned Stark was promised the same thing and we both know how that turned out.JAIME: Father is not Joffrey. He\\'ll keep his word.TYRION: How do you know?JAIME: Do you trust me?Tyrion studies his older brother for a long beat before nodding.JAIME: Keep your mouth shut. No more outbursts. This will all be over soon.Jaime walks back to his post.Tyrion looks after him. He\\'s confused about what\\'s happened, but it\\'s plain from the look on his face he\\'s relieved. His brother has come through for him again. He\\'s not going to die.***Tyrion turns his gaze to his father, who has just retaken his seat on the Iron Throne. They lock eyes for a moment. Tywin, of course, betrays nothing.The crowd quiets down as the other judges take their seats.TYWIN: The Crown may call its next witness.Tyrion turns in the direction of the approaching footsteps. He stands in speechless shock when he sees the next witness enter the throne room:SHAE. Dressed in a modest frock, quite different from her sexy handmaiden duds, her face stoic.Tyrion looks as if he\\'s been punched in the gut. He thought she was long gone.Shae walks past the dock (she doesn\\'t look at Tyrion) and takes her place before the judges.TYWIN: State your name.SHAE: Shae.TYWIN: Do you swear by all the gods your testimony will be true and honest?SHAE: I swear it.TYWIN (re: Tyrion): Do you know this man?Shae looks at Tyrion for the first time. Tyrion winces as he sees the pure hatred in her eyes. She turns back to Tywin.SHAE: Yes. Tyrion Lannister.TYWIN: And how do you know him?SHAE: I was handmaiden to his wife, Lady Sansa.TYWIN: This man stands accused of King Joffrey. What do you know of this?SHAE: I know that he\\'s guilty. He and Sansa planned it together.An eruption from the crowd at this confirmation.Tyrion can\\'t believe what he\\'s hearing.TYWIN (to the crowd) Silence. (to Shae) Continue.SHAE: She wanted revenge for her father, her mother, her brother. She blamed their deaths on the king. Tyrion was happy to help. He hated Joffrey. He hated the Queen. (to Tywin) He hated you, my lord.(beat)He stole poison from the Grand Maester\\'s chamber, to put in Joffrey\\'s wine--OBERYN: How could you possibly know all this? Why would he reveal such plans to his wife\\'s maid?SHAE: I wasn\\'t just her maid. I was his whore.A swell of commotion from the crowd.MACE TYRELL: I beg your pardon, you said you were his--?SHAE: His whore.Mace coughs, a bit embarrassed. Tywin presses on.TYWIN: How did you come into his service?SHAE: He stole me. I was with another man, a knight in your lordship\\'s army. But when Tyrion arrived, he sent one of his cutthroats into our tent. He broke the knight\\'s arm and brought me to Lord Tyrion. \"You belong to me, now.\" he said. \"I want you to fuck me like it\\'s my last night in this world.\"Loud laughter and chatter from the crowd.Tywin keeps a straight face, until finally:TYWIN: SILENCE.The crowd shuts up. Oberyn leans forward, smiling.OBERYN: And did you?SHAE: Did I what?OBERYN: Fuck him like it was his last night in the world?SHAE: I did everything he wanted. Whatever he told me to do to him, whatever he felt like doing to me. I kissed him where he wanted, licked him where he wanted, I let him-- put himself, where he wanted. I was his property. I would wait in his chambers for hours so he could use me when he was bored. He ordered me to call him \"My Lion,\" so I did. I took his face in my hands and said, \"I am yours and you are mine.\"Tyrion speaks quietly, for her alone, begging her with his look to stop.TYRION: Shae. Please. Don\\'t.She turns to speak to him directly for the last time. For a single moment it\\'s just the two of them. The hundreds of spectators, the judges, Tywin himself: none of them are here.SHAE: I\\'m a whore. Remember.Tyrion can only stare at her as she turns back.SHAE: That was before he married Sansa.(beat)After that, all he wanted was her. But she wouldn\\'t let him into her bed. So he promised to kill King Joffrey for her.Chatter from the crowd. Beat.TYRION: Father, I wish to confess! (shouting over the crowd) I wish to confess.The crowd chatter dies down.Tywin regards Tyrion for a beat. Tyrion looks up at the three judges.TYWIN: You wish to confess?Tyrion gazes out at the crowd, who are taking such pleasure in his destruction.TYRION (to the crowd): I saved you. I saved this city and all your worthless lives. I should have let Stannis kill you all--TYWIN: Tyrion. Do you wish to confess?Tyrion turns to face Tywin.TYRION: Yes, father. I\\'m guilty. Guilty. Is that what you want to hear?TYWIN: You admit you poisoned the King?TYRION: No, of that I\\'m innocent. I am guilty of a far more monstrous crime. I am guilty of being a dwarf.TYWIN: You are not on trial for being a dwarf.TYRION: Oh, yes I am. I\\'ve been on trial for that my entire life.TYWIN: Have you nothing to say in your defense?TYRION: Nothing but this: I did not do it.He turns from his father to Cersei.TYRION: I did not kill Joffrey but I wish that I had. Watching your vicious bastard die gave me more relief than a thousand lying whores.Cersei has never hated Tyrion more than in this moment.Tyrion turns from her and looks out at the crowd of nobles.TYRION: I wish I was the monster you think I am. I wish I had enough poison for the whole pack of you. I would gladly give my life to watch you all swallow it.Uproar from the crowd Killer! Kingslayer! Monster!TYWIN (shouting over the crowd, to Meryn Trant): Ser Meryn, escort the prisoner back to his cell--TYRION: I will not give my life for Joffrey\\'s murder. And I know I\\'ll get no justice here, so I will let the gods decide my fate. (beat)I demand a trial by combat!The roar of the crowd is deafening.Jaime shuts his eyes. Any hope of saving Tyrion is gone.Cersei smiles, triumphant at having pushed him too far.Oberyn Martell leans forward, intrigued.As for Tywin: he stares straight ahead, in dark hatred, at his youngest son.And Tyrion Lannister, defiant, stares right back.')]"
      ]
     },
     "execution_count": 27,
     "metadata": {},
     "output_type": "execute_result"
    }
   ],
   "source": [
    "from langchain_community.document_loaders import WebBaseLoader\n",
    "import bs4\n",
    "\n",
    "# Load only the page itself (don't try to crawl extra links)\n",
    "loader = WebBaseLoader(\n",
    "    web_paths=[\"https://genius.com/Game-of-thrones-tyrions-courtroom-speech-from-the-laws-of-gods-and-men-annotated\"],\n",
    "    bs_kwargs=dict(parse_only=bs4.SoupStrainer(\n",
    "        class_=(\"Lyrics__Container-sc-a49d8432-1 fBKwZw\",)\n",
    "    )),\n",
    ")\n",
    "\n",
    "# Load documents\n",
    "text_documents = loader.load()\n",
    "\n",
    "# Show the first chunk\n",
    "text_documents\n"
   ]
  },
  {
   "cell_type": "code",
   "execution_count": 10,
   "metadata": {},
   "outputs": [
    {
     "data": {
      "text/plain": [
       "[Document(metadata={'producer': 'Skia/PDF m141 Google Docs Renderer', 'creator': 'PyPDF', 'creationdate': '', 'title': 'Gdg Leads List', 'source': 'Gdg Leads List.pdf', 'total_pages': 1, 'page': 0, 'page_label': '1'}, page_content='Google  Developers  Group  2026  Heads  List   S.no  Head  Head  Details  \\n1  GDG  Lead  Kavishnu  G  -  III  CG   \\n2  Co  -  Lead  Prathisha  K  II  CG  3  Manager  &  PMO  Head  Megavarshnin  -  II  MSc  SS   4  Open  -  Source  and  GitHub  Head  \\n \\n5  Web/Full  Stack  Head  Abdul   -  MSc  CT   6  Cloud  and  DevOps  Head  Suman  N  -  II  DS  A  7  AI/ML,Gen  AI  Head  Monisha  R  -  III  CT  B   8  Automation  and  Agents  Head  \\n \\n9  IOT  Head  Gowtham  -  II  CSA  10  Social  Media  Head   \\n11  Python  Head  Bharath  Raj  K  A  -  II  DS  B   \\n12  Photograph  and  Editing  Head  \\n \\n13  Women  In  tech  Head  Thanu  Sree  -  II  CT  A   \\n14  UI/UX  Head  Nithya  Sree  -  II  CS   \\n15  Public  Relation  Head')]"
      ]
     },
     "execution_count": 10,
     "metadata": {},
     "output_type": "execute_result"
    }
   ],
   "source": [
    "## PDF Reader\n",
    "from langchain_community.document_loaders import PyPDFLoader\n",
    "loader=PyPDFLoader('Gdg Leads List.pdf')\n",
    "text_documents=loader.load()\n",
    "text_documents"
   ]
  },
  {
   "cell_type": "markdown",
   "metadata": {},
   "source": [
    "## Transform"
   ]
  },
  {
   "cell_type": "code",
   "execution_count": 28,
   "metadata": {},
   "outputs": [
    {
     "name": "stdout",
     "output_type": "stream",
     "text": [
      "[Document(metadata={'source': 'https://genius.com/Game-of-thrones-tyrions-courtroom-speech-from-the-laws-of-gods-and-men-annotated'}, page_content=\"6 ContributorsTyrion’s Courtroom Speech from The Laws of Gods and Men LyricsTyrion’s trial forms the final scene of “The Laws of Gods and Men”, (season 4, episode 6 of Game of Thrones). More extravagant and conspicuous than the corresponding passage in the books, owing largely to the… Read More\\xa0INT. RED KEEP - THRONE ROOM - DAYAs the crowd flies back in, Jaime approaches Tyrion in the dock.TYRION: Not going well, is it?JAIME: You're going to be found guilty.TYRION: Oh, you think so?JAIME: When you are, you need to enter a formal plea for mercy and ask to be sent to the Wall.Tyrion watches Jaime, unsure what games are being played now, waiting to hear more.JAIME: Father has agreed to it. He'll spare your life and allow you to join the Night's Watch.Tyrion eyes his brother skeptically.TYRION: Ned Stark was promised the same thing and we both know how that turned out.JAIME: Father is not Joffrey. He'll keep his word.TYRION: How do you know?JAIME: Do you trust me?Tyrion studies his older\"), Document(metadata={'source': 'https://genius.com/Game-of-thrones-tyrions-courtroom-speech-from-the-laws-of-gods-and-men-annotated'}, page_content=\"Ned Stark was promised the same thing and we both know how that turned out.JAIME: Father is not Joffrey. He'll keep his word.TYRION: How do you know?JAIME: Do you trust me?Tyrion studies his older brother for a long beat before nodding.JAIME: Keep your mouth shut. No more outbursts. This will all be over soon.Jaime walks back to his post.Tyrion looks after him. He's confused about what's happened, but it's plain from the look on his face he's relieved. His brother has come through for him again. He's not going to die.***Tyrion turns his gaze to his father, who has just retaken his seat on the Iron Throne. They lock eyes for a moment. Tywin, of course, betrays nothing.The crowd quiets down as the other judges take their seats.TYWIN: The Crown may call its next witness.Tyrion turns in the direction of the approaching footsteps. He stands in speechless shock when he sees the next witness enter the throne room:SHAE. Dressed in a modest frock, quite different from her sexy handmaiden duds,\"), Document(metadata={'source': 'https://genius.com/Game-of-thrones-tyrions-courtroom-speech-from-the-laws-of-gods-and-men-annotated'}, page_content=\"of the approaching footsteps. He stands in speechless shock when he sees the next witness enter the throne room:SHAE. Dressed in a modest frock, quite different from her sexy handmaiden duds, her face stoic.Tyrion looks as if he's been punched in the gut. He thought she was long gone.Shae walks past the dock (she doesn't look at Tyrion) and takes her place before the judges.TYWIN: State your name.SHAE: Shae.TYWIN: Do you swear by all the gods your testimony will be true and honest?SHAE: I swear it.TYWIN (re: Tyrion): Do you know this man?Shae looks at Tyrion for the first time. Tyrion winces as he sees the pure hatred in her eyes. She turns back to Tywin.SHAE: Yes. Tyrion Lannister.TYWIN: And how do you know him?SHAE: I was handmaiden to his wife, Lady Sansa.TYWIN: This man stands accused of King Joffrey. What do you know of this?SHAE: I know that he's guilty. He and Sansa planned it together.An eruption from the crowd at this confirmation.Tyrion can't believe what he's hearing.TYWIN\"), Document(metadata={'source': 'https://genius.com/Game-of-thrones-tyrions-courtroom-speech-from-the-laws-of-gods-and-men-annotated'}, page_content=\"of King Joffrey. What do you know of this?SHAE: I know that he's guilty. He and Sansa planned it together.An eruption from the crowd at this confirmation.Tyrion can't believe what he's hearing.TYWIN (to the crowd) Silence. (to Shae) Continue.SHAE: She wanted revenge for her father, her mother, her brother. She blamed their deaths on the king. Tyrion was happy to help. He hated Joffrey. He hated the Queen. (to Tywin) He hated you, my lord.(beat)He stole poison from the Grand Maester's chamber, to put in Joffrey's wine--OBERYN: How could you possibly know all this? Why would he reveal such plans to his wife's maid?SHAE: I wasn't just her maid. I was his whore.A swell of commotion from the crowd.MACE TYRELL: I beg your pardon, you said you were his--?SHAE: His whore.Mace coughs, a bit embarrassed. Tywin presses on.TYWIN: How did you come into his service?SHAE: He stole me. I was with another man, a knight in your lordship's army. But when Tyrion arrived, he sent one of his cutthroats\"), Document(metadata={'source': 'https://genius.com/Game-of-thrones-tyrions-courtroom-speech-from-the-laws-of-gods-and-men-annotated'}, page_content='Tywin presses on.TYWIN: How did you come into his service?SHAE: He stole me. I was with another man, a knight in your lordship\\'s army. But when Tyrion arrived, he sent one of his cutthroats into our tent. He broke the knight\\'s arm and brought me to Lord Tyrion. \"You belong to me, now.\" he said. \"I want you to fuck me like it\\'s my last night in this world.\"Loud laughter and chatter from the crowd.Tywin keeps a straight face, until finally:TYWIN: SILENCE.The crowd shuts up. Oberyn leans forward, smiling.OBERYN: And did you?SHAE: Did I what?OBERYN: Fuck him like it was his last night in the world?SHAE: I did everything he wanted. Whatever he told me to do to him, whatever he felt like doing to me. I kissed him where he wanted, licked him where he wanted, I let him-- put himself, where he wanted. I was his property. I would wait in his chambers for hours so he could use me when he was bored. He ordered me to call him \"My Lion,\" so I did. I took his face in my hands and said, \"I am yours'), Document(metadata={'source': 'https://genius.com/Game-of-thrones-tyrions-courtroom-speech-from-the-laws-of-gods-and-men-annotated'}, page_content='I was his property. I would wait in his chambers for hours so he could use me when he was bored. He ordered me to call him \"My Lion,\" so I did. I took his face in my hands and said, \"I am yours and you are mine.\"Tyrion speaks quietly, for her alone, begging her with his look to stop.TYRION: Shae. Please. Don\\'t.She turns to speak to him directly for the last time. For a single moment it\\'s just the two of them. The hundreds of spectators, the judges, Tywin himself: none of them are here.SHAE: I\\'m a whore. Remember.Tyrion can only stare at her as she turns back.SHAE: That was before he married Sansa.(beat)After that, all he wanted was her. But she wouldn\\'t let him into her bed. So he promised to kill King Joffrey for her.Chatter from the crowd. Beat.TYRION: Father, I wish to confess! (shouting over the crowd) I wish to confess.The crowd chatter dies down.Tywin regards Tyrion for a beat. Tyrion looks up at the three judges.TYWIN: You wish to confess?Tyrion gazes out at the crowd, who are'), Document(metadata={'source': 'https://genius.com/Game-of-thrones-tyrions-courtroom-speech-from-the-laws-of-gods-and-men-annotated'}, page_content=\"over the crowd) I wish to confess.The crowd chatter dies down.Tywin regards Tyrion for a beat. Tyrion looks up at the three judges.TYWIN: You wish to confess?Tyrion gazes out at the crowd, who are taking such pleasure in his destruction.TYRION (to the crowd): I saved you. I saved this city and all your worthless lives. I should have let Stannis kill you all--TYWIN: Tyrion. Do you wish to confess?Tyrion turns to face Tywin.TYRION: Yes, father. I'm guilty. Guilty. Is that what you want to hear?TYWIN: You admit you poisoned the King?TYRION: No, of that I'm innocent. I am guilty of a far more monstrous crime. I am guilty of being a dwarf.TYWIN: You are not on trial for being a dwarf.TYRION: Oh, yes I am. I've been on trial for that my entire life.TYWIN: Have you nothing to say in your defense?TYRION: Nothing but this: I did not do it.He turns from his father to Cersei.TYRION: I did not kill Joffrey but I wish that I had. Watching your vicious bastard die gave me more relief than a\"), Document(metadata={'source': 'https://genius.com/Game-of-thrones-tyrions-courtroom-speech-from-the-laws-of-gods-and-men-annotated'}, page_content=\"defense?TYRION: Nothing but this: I did not do it.He turns from his father to Cersei.TYRION: I did not kill Joffrey but I wish that I had. Watching your vicious bastard die gave me more relief than a thousand lying whores.Cersei has never hated Tyrion more than in this moment.Tyrion turns from her and looks out at the crowd of nobles.TYRION: I wish I was the monster you think I am. I wish I had enough poison for the whole pack of you. I would gladly give my life to watch you all swallow it.Uproar from the crowd Killer! Kingslayer! Monster!TYWIN (shouting over the crowd, to Meryn Trant): Ser Meryn, escort the prisoner back to his cell--TYRION: I will not give my life for Joffrey's murder. And I know I'll get no justice here, so I will let the gods decide my fate. (beat)I demand a trial by combat!The roar of the crowd is deafening.Jaime shuts his eyes. Any hope of saving Tyrion is gone.Cersei smiles, triumphant at having pushed him too far.Oberyn Martell leans forward, intrigued.As for\"), Document(metadata={'source': 'https://genius.com/Game-of-thrones-tyrions-courtroom-speech-from-the-laws-of-gods-and-men-annotated'}, page_content='combat!The roar of the crowd is deafening.Jaime shuts his eyes. Any hope of saving Tyrion is gone.Cersei smiles, triumphant at having pushed him too far.Oberyn Martell leans forward, intrigued.As for Tywin: he stares straight ahead, in dark hatred, at his youngest son.And Tyrion Lannister, defiant, stares right back.')]\n"
     ]
    }
   ],
   "source": [
    "from langchain_text_splitters import RecursiveCharacterTextSplitter\n",
    "\n",
    "# Use the text_documents you got from WebBaseLoader\n",
    "text_splitter = RecursiveCharacterTextSplitter(\n",
    "    chunk_size=1000,\n",
    "    chunk_overlap=200\n",
    ")\n",
    "\n",
    "documents = text_splitter.split_documents(text_documents)\n",
    "\n",
    "# Preview first 5 chunks\n",
    "# for i, doc in enumerate(documents[:5], 1):\n",
    "#     print(f\"--- Chunk {i} ---\")\n",
    "#     print(doc.page_content[:1000])  # preview first 300 chars\n",
    "#     print()\n",
    "\n",
    "print(documents)"
   ]
  },
  {
   "cell_type": "markdown",
   "metadata": {},
   "source": [
    "## Vector Embedding and Vector Store"
   ]
  },
  {
   "cell_type": "code",
   "execution_count": 29,
   "metadata": {},
   "outputs": [],
   "source": [
    "from langchain_community.embeddings import OllamaEmbeddings\n",
    "from langchain_community.vectorstores import Chroma\n",
    "db=Chroma.from_documents(documents[:2],OllamaEmbeddings(model=\"gemma\"))\n"
   ]
  },
  {
   "cell_type": "code",
   "execution_count": 32,
   "metadata": {},
   "outputs": [],
   "source": [
    "## Gemini\n",
    "\n",
    "from langchain_google_genai import GoogleGenerativeAIEmbeddings\n",
    "\n",
    "# Load API key from .env\n",
    "load_dotenv()\n",
    "os.environ[\"GOOGLE_API_KEY\"] = os.getenv(\"GOOGLE_API_KEY\")\n",
    "\n",
    "# Initialize Gemini embeddings\n",
    "embeddings = GoogleGenerativeAIEmbeddings(\n",
    "    model=\"models/gemini-embedding-001\"   # ✅ Gemini embedding model\n",
    ")\n",
    "\n",
    "# Create Chroma vectorstore with Gemini embeddings\n",
    "db2 = Chroma.from_documents(documents[:2], embeddings)\n"
   ]
  },
  {
   "cell_type": "code",
   "execution_count": 33,
   "metadata": {},
   "outputs": [
    {
     "data": {
      "text/plain": [
       "\"6 ContributorsTyrion’s Courtroom Speech from The Laws of Gods and Men LyricsTyrion’s trial forms the final scene of “The Laws of Gods and Men”, (season 4, episode 6 of Game of Thrones). More extravagant and conspicuous than the corresponding passage in the books, owing largely to the… Read More\\xa0INT. RED KEEP - THRONE ROOM - DAYAs the crowd flies back in, Jaime approaches Tyrion in the dock.TYRION: Not going well, is it?JAIME: You're going to be found guilty.TYRION: Oh, you think so?JAIME: When you are, you need to enter a formal plea for mercy and ask to be sent to the Wall.Tyrion watches Jaime, unsure what games are being played now, waiting to hear more.JAIME: Father has agreed to it. He'll spare your life and allow you to join the Night's Watch.Tyrion eyes his brother skeptically.TYRION: Ned Stark was promised the same thing and we both know how that turned out.JAIME: Father is not Joffrey. He'll keep his word.TYRION: How do you know?JAIME: Do you trust me?Tyrion studies his older\""
      ]
     },
     "execution_count": 33,
     "metadata": {},
     "output_type": "execute_result"
    }
   ],
   "source": [
    "\n",
    "query=\"What is the document about\"\n",
    "result=db2.similarity_search(query)\n",
    "result[0].page_content"
   ]
  },
  {
   "cell_type": "code",
   "execution_count": 37,
   "metadata": {},
   "outputs": [
    {
     "data": {
      "text/plain": [
       "\"6 ContributorsTyrion’s Courtroom Speech from The Laws of Gods and Men LyricsTyrion’s trial forms the final scene of “The Laws of Gods and Men”, (season 4, episode 6 of Game of Thrones). More extravagant and conspicuous than the corresponding passage in the books, owing largely to the… Read More\\xa0INT. RED KEEP - THRONE ROOM - DAYAs the crowd flies back in, Jaime approaches Tyrion in the dock.TYRION: Not going well, is it?JAIME: You're going to be found guilty.TYRION: Oh, you think so?JAIME: When you are, you need to enter a formal plea for mercy and ask to be sent to the Wall.Tyrion watches Jaime, unsure what games are being played now, waiting to hear more.JAIME: Father has agreed to it. He'll spare your life and allow you to join the Night's Watch.Tyrion eyes his brother skeptically.TYRION: Ned Stark was promised the same thing and we both know how that turned out.JAIME: Father is not Joffrey. He'll keep his word.TYRION: How do you know?JAIME: Do you trust me?Tyrion studies his older\""
      ]
     },
     "execution_count": 37,
     "metadata": {},
     "output_type": "execute_result"
    }
   ],
   "source": [
    "query=\"Who is TYRION said at last?\"\n",
    "result=db.similarity_search(query)\n",
    "result[0].page_content"
   ]
  },
  {
   "cell_type": "code",
   "execution_count": 35,
   "metadata": {},
   "outputs": [],
   "source": [
    "### fiass DB\n",
    "\n",
    "from langchain_community.vectorstores import FAISS\n",
    "db1=FAISS.from_documents(documents,OllamaEmbeddings(model=\"gemma\"))"
   ]
  },
  {
   "cell_type": "code",
   "execution_count": 36,
   "metadata": {},
   "outputs": [],
   "source": [
    "from langchain_google_genai import GoogleGenerativeAIEmbeddings\n",
    "\n",
    "# Load API key from .env\n",
    "load_dotenv()\n",
    "os.environ[\"GOOGLE_API_KEY\"] = os.getenv(\"GOOGLE_API_KEY\")\n",
    "\n",
    "# Initialize Gemini embeddings\n",
    "embeddings = GoogleGenerativeAIEmbeddings(\n",
    "    model=\"models/gemini-embedding-001\"   # ✅ Gemini embedding model\n",
    ")\n",
    "db1=FAISS.from_documents(documents,embeddings)"
   ]
  },
  {
   "cell_type": "code",
   "execution_count": 40,
   "metadata": {},
   "outputs": [
    {
     "data": {
      "text/plain": [
       "\"Ned Stark was promised the same thing and we both know how that turned out.JAIME: Father is not Joffrey. He'll keep his word.TYRION: How do you know?JAIME: Do you trust me?Tyrion studies his older brother for a long beat before nodding.JAIME: Keep your mouth shut. No more outbursts. This will all be over soon.Jaime walks back to his post.Tyrion looks after him. He's confused about what's happened, but it's plain from the look on his face he's relieved. His brother has come through for him again. He's not going to die.***Tyrion turns his gaze to his father, who has just retaken his seat on the Iron Throne. They lock eyes for a moment. Tywin, of course, betrays nothing.The crowd quiets down as the other judges take their seats.TYWIN: The Crown may call its next witness.Tyrion turns in the direction of the approaching footsteps. He stands in speechless shock when he sees the next witness enter the throne room:SHAE. Dressed in a modest frock, quite different from her sexy handmaiden duds,\""
      ]
     },
     "execution_count": 40,
     "metadata": {},
     "output_type": "execute_result"
    }
   ],
   "source": [
    "query=\"What is TYRION said about ned stark\"\n",
    "result=db1.similarity_search(query)\n",
    "result[0].page_content"
   ]
  },
  {
   "cell_type": "code",
   "execution_count": null,
   "metadata": {},
   "outputs": [],
   "source": []
  }
 ],
 "metadata": {
  "kernelspec": {
   "display_name": "venv",
   "language": "python",
   "name": "python3"
  },
  "language_info": {
   "codemirror_mode": {
    "name": "ipython",
    "version": 3
   },
   "file_extension": ".py",
   "mimetype": "text/x-python",
   "name": "python",
   "nbconvert_exporter": "python",
   "pygments_lexer": "ipython3",
   "version": "3.12.8"
  }
 },
 "nbformat": 4,
 "nbformat_minor": 2
}
